{
 "cells": [
  {
   "cell_type": "markdown",
   "metadata": {},
   "source": [
    "# Training my First RNN"
   ]
  },
  {
   "cell_type": "code",
   "execution_count": 104,
   "metadata": {},
   "outputs": [],
   "source": [
    "import pandas as pd\n",
    "import numpy as np"
   ]
  },
  {
   "cell_type": "code",
   "execution_count": 106,
   "metadata": {},
   "outputs": [],
   "source": [
    "from sklearn.model_selection import train_test_split\n",
    "from torch.utils.data import DataLoader, TensorDataset\n",
    "import torch"
   ]
  },
  {
   "cell_type": "code",
   "execution_count": 115,
   "metadata": {},
   "outputs": [],
   "source": [
    "import torch\n",
    "import torch.nn as nn\n",
    "from torch.autograd import Variable\n",
    "from sklearn.model_selection import train_test_split\n",
    "from torch.utils.data import DataLoader, TensorDataset"
   ]
  },
  {
   "cell_type": "markdown",
   "metadata": {},
   "source": [
    "### Importing Data"
   ]
  },
  {
   "cell_type": "code",
   "execution_count": null,
   "metadata": {},
   "outputs": [
    {
     "data": {
      "text/plain": [
       "0    60.0\n",
       "1    52.0\n",
       "2    52.0\n",
       "3    53.0\n",
       "4    52.0\n",
       "5    50.0\n",
       "6    52.0\n",
       "7    56.0\n",
       "8    54.0\n",
       "9    57.0\n",
       "Name: tmax, dtype: float64"
      ]
     },
     "execution_count": 105,
     "metadata": {},
     "output_type": "execute_result"
    }
   ],
   "source": [
    "data = pd.read_csv(\"../../../data/time_series/clean_weather.csv\")\n",
    "data = data.ffill()\n",
    "# Display a sequence of temperatures\n",
    "data[\"tmax\"].head(10)"
   ]
  },
  {
   "cell_type": "markdown",
   "metadata": {},
   "source": [
    "##### Create sequences from a time seriees by movind windoow:"
   ]
  },
  {
   "cell_type": "code",
   "execution_count": 107,
   "metadata": {},
   "outputs": [],
   "source": [
    "targets_numpy = data.tmax_tomorrow.values\n",
    "features_numpy = data[[\"tmax\", \"tmin\", \"rain\" ]].values\n"
   ]
  },
  {
   "cell_type": "code",
   "execution_count": 108,
   "metadata": {},
   "outputs": [],
   "source": [
    "features_numpy_seq  = []\n",
    "targets_numpy_seq  = []\n",
    "\n",
    "seq_dim = 20\n",
    "\n",
    "for i, first_point in enumerate(targets_numpy):\n",
    "    if i+seq_dim<=targets_numpy.shape[0]:\n",
    "        targets_numpy_seq.append(targets_numpy[i:i+seq_dim])\n",
    "        features_numpy_seq.append(features_numpy[i:i+seq_dim])\n",
    "\n",
    "    else:\n",
    "        targets_numpy_seq.append(targets_numpy[i:targets_numpy.shape[0]])\n",
    "        features_numpy_seq.append(features_numpy[i:features_numpy.shape[0]])\n",
    "        break;\n",
    "        \n",
    "# features_numpy_seq = np.asarray(features_numpy_seq)\n",
    "# targets_numpy_seq = np.asarray(targets_numpy_seq)\n"
   ]
  },
  {
   "cell_type": "code",
   "execution_count": 109,
   "metadata": {},
   "outputs": [],
   "source": [
    "train_set_split = 0.2\n",
    "train_set_split_len = int(len(targets_numpy_seq)*train_set_split)\n",
    "\n",
    "features_train = features_numpy_seq[0:train_set_split_len]\n",
    "features_test = features_numpy_seq[train_set_split_len:]\n",
    "\n",
    "targets_train = targets_numpy_seq[0:train_set_split_len]\n",
    "targets_test = targets_numpy_seq[train_set_split_len:]\n",
    "\n"
   ]
  },
  {
   "cell_type": "code",
   "execution_count": 110,
   "metadata": {},
   "outputs": [],
   "source": [
    "#  create feature and targets tensor for train set. As you remember we need variable to accumulate gradients. Therefore first we create tensor, then we will create variable\n",
    "featuresTrain = torch.tensor(features_train)\n",
    "targetsTrain = torch.tensor(targets_train)"
   ]
  },
  {
   "cell_type": "code",
   "execution_count": 111,
   "metadata": {},
   "outputs": [],
   "source": [
    "# Pytorch train and test sets\n",
    "train = TensorDataset(featuresTrain,targetsTrain)"
   ]
  },
  {
   "cell_type": "code",
   "execution_count": 113,
   "metadata": {},
   "outputs": [],
   "source": [
    "# batch_size, epoch and iteration\n",
    "batch_size = 100\n",
    "n_iters = 10000\n",
    "num_epochs = n_iters / (len(features_train) / batch_size)\n",
    "num_epochs = int(num_epochs)"
   ]
  },
  {
   "cell_type": "code",
   "execution_count": 114,
   "metadata": {},
   "outputs": [],
   "source": [
    "# data loader\n",
    "train_loader = DataLoader(train, batch_size = batch_size, shuffle = False)"
   ]
  },
  {
   "cell_type": "code",
   "execution_count": 137,
   "metadata": {},
   "outputs": [],
   "source": [
    "from torch.nn.functional import tanh\n",
    "\n",
    "class RNN_model(nn.Module):\n",
    "    def __init__(self,input_dim, hidden_dim, layer_dim, output_dim):\n",
    "        super().__init__()\n",
    "        # Number of hidden dimensions\n",
    "        self.hidden_dim = hidden_dim\n",
    "        # Number of hidden layers\n",
    "        self.layer_dim = layer_dim\n",
    "        self.output_dim = output_dim\n",
    "        # RNN\n",
    "        self.rnn = nn.RNN(input_dim, hidden_dim, layer_dim, batch_first=True, nonlinearity='relu')\n",
    "\n",
    "        self.fc = nn.Linear(hidden_dim, output_dim)\n",
    "\n",
    "\n",
    "    def forward(self, x):\n",
    "\n",
    "        # Initialize hidden state with zeros\n",
    "        h0 = -torch.ones(self.layer_dim, x.size(0), self.hidden_dim)/(20*self.hidden_dim)\n",
    "        # print(x.size())\n",
    "        # One time step\n",
    "        r_out, hn = self.rnn(x, h0)\n",
    "\n",
    "        r_out = r_out.reshape(-1, self.hidden_dim)\n",
    "        # return r_out\n",
    "        out = self.fc(r_out)\n",
    "        out = out.reshape(-1, self.output_dim , 1)\n",
    "        # print(out.size())\n",
    "        return out\n",
    "        "
   ]
  },
  {
   "cell_type": "code",
   "execution_count": 138,
   "metadata": {},
   "outputs": [],
   "source": [
    "# Create RNN\n",
    "input_dim = 3    # input dimension\n",
    "hidden_dim = 50  # hidden layer dimension\n",
    "layer_dim = 2     # number of hidden layers\n",
    "output_dim = 1   # output dimension\n",
    "\n",
    "model = RNN_model(input_dim, hidden_dim, layer_dim, output_dim)"
   ]
  },
  {
   "cell_type": "code",
   "execution_count": 139,
   "metadata": {},
   "outputs": [],
   "source": [
    "# Cross Entropy Loss \n",
    "error = nn.L1Loss()\n",
    "\n",
    "# SGD Optimizer\n",
    "learning_rate = 0.1\n",
    "optimizer = torch.optim.SGD(model.parameters(), lr=learning_rate)"
   ]
  },
  {
   "cell_type": "code",
   "execution_count": 140,
   "metadata": {},
   "outputs": [],
   "source": [
    "epochs_loss = []"
   ]
  },
  {
   "cell_type": "code",
   "execution_count": 141,
   "metadata": {},
   "outputs": [
    {
     "name": "stderr",
     "output_type": "stream",
     "text": [
      "/var/folders/f9/kmz_nck52zn4vfbt9qh0px5r0000gn/T/ipykernel_3617/1128794230.py:13: UserWarning: To copy construct from a tensor, it is recommended to use sourceTensor.clone().detach() or sourceTensor.clone().detach().requires_grad_(True), rather than torch.tensor(sourceTensor).\n",
      "  X = torch.tensor(X, dtype=torch.float)\n",
      "/var/folders/f9/kmz_nck52zn4vfbt9qh0px5r0000gn/T/ipykernel_3617/1128794230.py:18: UserWarning: To copy construct from a tensor, it is recommended to use sourceTensor.clone().detach() or sourceTensor.clone().detach().requires_grad_(True), rather than torch.tensor(sourceTensor).\n",
      "  y = torch.tensor(y, dtype=torch.float)\n"
     ]
    }
   ],
   "source": [
    "\n",
    "for epoch in range(10000):\n",
    "\n",
    "    for i, (X, y) in enumerate(train_loader):\n",
    "\n",
    "        # train  = Variable(X.view(-1, seq_dim, input_dim))\n",
    "        labels = Variable(y )\n",
    "\n",
    "        # Clear gradients\n",
    "        optimizer.zero_grad()\n",
    "        \n",
    "        X = torch.reshape(X, (X.size()[0], seq_dim, input_dim ))\n",
    "        # X = torch.reshape(X, (batch_size, 1, input_dim ))\n",
    "        X = torch.tensor(X, dtype=torch.float)\n",
    "\n",
    "\n",
    "        # print(y.size())\n",
    "        y = torch.reshape(y, (-1, 1, 1))\n",
    "        y = torch.tensor(y, dtype=torch.float)\n",
    "\n",
    "        if torch.isnan(X).any().numpy():\n",
    "            print(\"NAN\")\n",
    "        # Forward propagation\n",
    "        outputs = model(X)\n",
    "\n",
    "        # Calculate softmax and ross entropy loss\n",
    "        loss = error(outputs, y)\n",
    "\n",
    "        # Calculating gradients\n",
    "        loss.backward()\n",
    "\n",
    "        torch.nn.utils.clip_grad_norm_(model.parameters(), max_norm = 0.9)\n",
    "        # Update parameters\n",
    "        optimizer.step()\n",
    "\n",
    "        epochs_loss.append(loss.item())\n",
    "\n",
    "\n",
    "        "
   ]
  },
  {
   "cell_type": "code",
   "execution_count": 142,
   "metadata": {},
   "outputs": [],
   "source": [
    "epochs_loss_edit = [10 if x>10 else x  for x in epochs_loss]"
   ]
  },
  {
   "cell_type": "code",
   "execution_count": 145,
   "metadata": {},
   "outputs": [
    {
     "data": {
      "image/png": "[encoded data removed]",
      "text/plain": [
       "<Figure size 800x500 with 1 Axes>"
      ]
     },
     "metadata": {},
     "output_type": "display_data"
    }
   ],
   "source": [
    "import matplotlib.pyplot as plt\n",
    "\n",
    "# Plotting\n",
    "plt.figure(figsize=(8, 5))\n",
    "plt.plot(range(len(epochs_loss_edit)), epochs_loss_edit, marker='o', linestyle='-', color='b', label='Values')\n",
    "\n",
    "# Adding labels and title\n",
    "plt.title('Plot of List Values vs. Indices', fontsize=14)\n",
    "plt.xlabel('Index', fontsize=12)\n",
    "plt.ylabel('Value', fontsize=12)\n",
    "plt.grid(alpha=0.5)\n",
    "plt.legend()\n",
    "\n",
    "\n",
    "# Show plot\n",
    "plt.show()"
   ]
  },
  {
   "cell_type": "markdown",
   "metadata": {},
   "source": [
    "### calculating MSE for test data"
   ]
  },
  {
   "cell_type": "code",
   "execution_count": 133,
   "metadata": {},
   "outputs": [
    {
     "name": "stderr",
     "output_type": "stream",
     "text": [
      "/var/folders/f9/kmz_nck52zn4vfbt9qh0px5r0000gn/T/ipykernel_3617/3706676306.py:8: UserWarning: To copy construct from a tensor, it is recommended to use sourceTensor.clone().detach() or sourceTensor.clone().detach().requires_grad_(True), rather than torch.tensor(sourceTensor).\n",
      "  X = torch.tensor(X, dtype=torch.float)\n"
     ]
    }
   ],
   "source": [
    "all_loss = []\n",
    "all_loss_ = []\n",
    "\n",
    "for i, one_batch in enumerate(features_test):\n",
    "    X = torch.from_numpy(one_batch)\n",
    "    X = torch.reshape(X, (1, -1, input_dim ))\n",
    "    # X = torch.reshape(X, (batch_size, 1, input_dim ))\n",
    "    X = torch.tensor(X, dtype=torch.float)\n",
    "    pred = model(X)\n",
    "\n",
    "    y = targets_test[i]\n",
    "    y = torch.from_numpy(y)\n",
    "    y = torch.reshape(y, (y.size()[0], 1, 1 ))\n",
    "    loss = error(pred, y)\n",
    "    \n",
    "    y = y.flatten().detach().numpy()\n",
    "    pred = pred.flatten().detach().numpy()\n",
    "\n",
    "    loss_ = np.sum(abs(pred- y))/len(pred)\n",
    "    \n",
    "\n",
    "    all_loss.append(loss.item())\n",
    "    all_loss_.append(loss_)\n",
    "\n",
    "    "
   ]
  },
  {
   "cell_type": "code",
   "execution_count": 134,
   "metadata": {},
   "outputs": [
    {
     "data": {
      "text/plain": [
       "np.float64(4.65579261008352)"
      ]
     },
     "execution_count": 134,
     "metadata": {},
     "output_type": "execute_result"
    }
   ],
   "source": [
    "np.sum(all_loss_)/len(all_loss_)"
   ]
  },
  {
   "cell_type": "markdown",
   "metadata": {},
   "source": [
    "Looks like there is a 4.5 average error of temperature in the forecasting. Which seems large variance. next step. \n",
    " - Train a LR\n",
    " - Train an LSTM"
   ]
  },
  {
   "cell_type": "code",
   "execution_count": null,
   "metadata": {},
   "outputs": [],
   "source": []
  },
  {
   "cell_type": "code",
   "execution_count": null,
   "metadata": {},
   "outputs": [],
   "source": []
  },
  {
   "cell_type": "code",
   "execution_count": null,
   "metadata": {},
   "outputs": [],
   "source": []
  },
  {
   "cell_type": "code",
   "execution_count": 141,
   "metadata": {},
   "outputs": [
    {
     "name": "stderr",
     "output_type": "stream",
     "text": [
      "Matplotlib is building the font cache; this may take a moment.\n",
      "/var/folders/f9/kmz_nck52zn4vfbt9qh0px5r0000gn/T/ipykernel_50471/2538420599.py:12: FutureWarning: 'H' is deprecated and will be removed in a future version, please use 'h' instead.\n",
      "  'timestamp': pd.date_range(start='2023-01-01', periods=100, freq='H'),\n"
     ]
    },
    {
     "name": "stdout",
     "output_type": "stream",
     "text": [
      "Epoch [10/50], Loss: 0.1188\n",
      "Epoch [20/50], Loss: 0.0946\n",
      "Epoch [30/50], Loss: 0.0947\n",
      "Epoch [40/50], Loss: 0.0941\n",
      "Epoch [50/50], Loss: 0.0933\n",
      "Root Mean Squared Error (RMSE): 217.75504036183378\n",
      "Mean Absolute Error (MAE): 183.81\n",
      "Mean Absolute Percentage Error (MAPE): 48.34%\n"
     ]
    },
    {
     "data": {
      "image/png": "[encoded data removed]",
      "text/plain": [
       "<Figure size 1000x600 with 1 Axes>"
      ]
     },
     "metadata": {},
     "output_type": "display_data"
    }
   ],
   "source": [
    "import numpy as np\n",
    "import pandas as pd\n",
    "import matplotlib.pyplot as plt\n",
    "from sklearn.preprocessing import MinMaxScaler\n",
    "import torch\n",
    "import torch.nn as nn\n",
    "from torch.utils.data import DataLoader, Dataset\n",
    "from sklearn.metrics import mean_absolute_error, mean_absolute_percentage_error, mean_squared_error\n",
    "\n",
    "# Sample data for Electricity Consumption \n",
    "data = {\n",
    "    'timestamp': pd.date_range(start='2023-01-01', periods=100, freq='H'),\n",
    "    'consumption': np.random.randint(100, 1000, 100)\n",
    "}\n",
    "df = pd.DataFrame(data)\n",
    "df.set_index('timestamp', inplace=True)\n",
    "\n",
    "# Preprocessing\n",
    "scaler = MinMaxScaler()\n",
    "df_scaled = scaler.fit_transform(df)\n",
    "\n",
    "# Create sequences and labels for training\n",
    "seq_length = 24\n",
    "X, y = [], []\n",
    "for i in range(len(df_scaled) - seq_length):\n",
    "    X.append(df_scaled[i:i + seq_length])\n",
    "    y.append(df_scaled[i + seq_length])\n",
    "\n",
    "\n",
    "X, y = np.array(X), np.array(y)\n",
    "\n",
    "# Split the data into training and test sets\n",
    "train_size = int(0.8 * len(X))\n",
    "X_train, X_test = X[:train_size], X[train_size:]\n",
    "y_train, y_test = y[:train_size], y[train_size:]\n",
    "\n",
    "# Create a custom dataset class for PyTorch DataLoader\n",
    "class TimeSeriesDataset(Dataset):\n",
    "    def __init__(self, X, y):\n",
    "        self.X = torch.tensor(X, dtype=torch.float32)\n",
    "        self.y = torch.tensor(y, dtype=torch.float32)\n",
    "\n",
    "    def __len__(self):\n",
    "        return len(self.X)\n",
    "\n",
    "    def __getitem__(self, index):\n",
    "        return self.X[index], self.y[index]\n",
    "\n",
    "# Define the RNN model\n",
    "class RNNModel(nn.Module):\n",
    "    def __init__(self, input_size, hidden_size, output_size):\n",
    "        super(RNNModel, self).__init__()\n",
    "        self.rnn = nn.LSTM(input_size, hidden_size, batch_first=True)\n",
    "        self.fc = nn.Linear(hidden_size, output_size)\n",
    "\n",
    "    def forward(self, x):\n",
    "        out, _ = self.rnn(x)\n",
    "        out = self.fc(out[:, -1, :])\n",
    "        return out\n",
    "\n",
    "# Hyperparameters\n",
    "input_size = X_train.shape[2]\n",
    "hidden_size = 128\n",
    "output_size = 1\n",
    "learning_rate = 0.001\n",
    "num_epochs = 50\n",
    "batch_size = 64\n",
    "\n",
    "# Create data loaders\n",
    "train_dataset = TimeSeriesDataset(X_train, y_train)\n",
    "train_loader = DataLoader(train_dataset, batch_size=batch_size, shuffle=True)\n",
    "\n",
    "# Initialize the model, loss function, and optimizer\n",
    "model = RNNModel(input_size, hidden_size, output_size)\n",
    "criterion = nn.MSELoss()\n",
    "optimizer = torch.optim.Adam(model.parameters(), lr=learning_rate)\n",
    "\n",
    "# Training the model\n",
    "for epoch in range(num_epochs):\n",
    "    for inputs, targets in train_loader:\n",
    "        outputs = model(inputs)\n",
    "        loss = criterion(outputs, targets)\n",
    "        optimizer.zero_grad()\n",
    "        loss.backward()\n",
    "        optimizer.step()\n",
    "\n",
    "    if (epoch + 1) % 10 == 0:\n",
    "        print(f'Epoch [{epoch+1}/{num_epochs}], Loss: {loss.item():.4f}')\n",
    "\n",
    "# Evaluation on the test set\n",
    "model.eval()\n",
    "with torch.no_grad():\n",
    "    X_test_tensor = torch.tensor(X_test, dtype=torch.float32)\n",
    "    y_pred = model(X_test_tensor).numpy()\n",
    "    y_pred = scaler.inverse_transform(y_pred)\n",
    "    y_test = scaler.inverse_transform(y_test)\n",
    "\n",
    "# Calculate RMSE\n",
    "mse = mean_squared_error(y_test, y_pred)\n",
    "rmse = np.sqrt(mse)\n",
    "print(f\"Root Mean Squared Error (RMSE): {rmse}\")\n",
    "mae = mean_absolute_error(y_test, y_pred)\n",
    "print(f\"Mean Absolute Error (MAE): {mae:.2f}\")\n",
    "mape = mean_absolute_percentage_error(y_test, y_pred) * 100\n",
    "print(f\"Mean Absolute Percentage Error (MAPE): {mape:.2f}%\")\n",
    "\n",
    "\n",
    "# Visualize predictions against actual data\n",
    "plt.figure(figsize=(10, 6))\n",
    "plt.plot(df.index[train_size+seq_length:], y_test, label='Actual')\n",
    "plt.plot(df.index[train_size+seq_length:], y_pred, label='Predicted')\n",
    "plt.xlabel('Timestamp')\n",
    "plt.ylabel('Electricity Consumption')\n",
    "plt.title('Electricity Consumption Prediction using RNN (PyTorch)')\n",
    "plt.legend()\n",
    "plt.show()"
   ]
  },
  {
   "cell_type": "code",
   "execution_count": 144,
   "metadata": {},
   "outputs": [
    {
     "name": "stdout",
     "output_type": "stream",
     "text": [
      "24\n"
     ]
    }
   ],
   "source": [
    "for inputs, targets in train_loader:\n",
    "    print(len(inputs[0]))"
   ]
  },
  {
   "cell_type": "code",
   "execution_count": null,
   "metadata": {},
   "outputs": [],
   "source": []
  }
 ],
 "metadata": {
  "kernelspec": {
   "display_name": "python_env",
   "language": "python",
   "name": "python3"
  },
  "language_info": {
   "codemirror_mode": {
    "name": "ipython",
    "version": 3
   },
   "file_extension": ".py",
   "mimetype": "text/x-python",
   "name": "python",
   "nbconvert_exporter": "python",
   "pygments_lexer": "ipython3",
   "version": "3.12.2"
  },
  "orig_nbformat": 2
 },
 "nbformat": 4,
 "nbformat_minor": 2
}
