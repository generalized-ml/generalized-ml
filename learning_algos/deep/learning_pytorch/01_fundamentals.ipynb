{
 "cells": [
  {
   "cell_type": "markdown",
   "metadata": {},
   "source": [
    "# Tensor Basics\n",
    "\n",
    "- learn tensors\n",
    "- manupulate them \n",
    "- run them on gpus"
   ]
  },
  {
   "cell_type": "markdown",
   "metadata": {},
   "source": [
    "## Three important attributes of tensors"
   ]
  },
  {
   "cell_type": "markdown",
   "metadata": {},
   "source": [
    "- shape\n",
    "- dtype \n",
    "- device (# will default to CPU)\n",
    "\n",
    "Note: When you run into issues in PyTorch, it's very often one to do with one of the three attributes above. So when the error messages show up, sing yourself a little song called \"what, what, where\":\n",
    "\n",
    "\"what shape are my tensors? what datatype are they and where are they stored? what shape, what datatype, where where where\""
   ]
  },
  {
   "cell_type": "code",
   "execution_count": 14,
   "metadata": {},
   "outputs": [
    {
     "name": "stdout",
     "output_type": "stream",
     "text": [
      "tensor([[0.6057, 0.8163, 0.9686, 0.8049],\n",
      "        [0.6393, 0.7917, 0.1333, 0.8276],\n",
      "        [0.7840, 0.6592, 0.0315, 0.9004]])\n",
      "Shape of tensor: torch.Size([3, 4])\n",
      "Datatype of tensor: torch.float32\n",
      "Device tensor is stored on: cpu\n"
     ]
    }
   ],
   "source": [
    "# Create a tensor\n",
    "some_tensor = torch.rand(3, 4)\n",
    "\n",
    "# Find out details about it\n",
    "print(some_tensor)\n",
    "print(f\"Shape of tensor: {some_tensor.shape}\")\n",
    "print(f\"Datatype of tensor: {some_tensor.dtype}\")\n",
    "print(f\"Device tensor is stored on: {some_tensor.device}\") # will default to CPU\n"
   ]
  },
  {
   "cell_type": "markdown",
   "metadata": {},
   "source": [
    "## Operations"
   ]
  },
  {
   "cell_type": "markdown",
   "metadata": {},
   "source": [
    "### Add and Multiplication"
   ]
  },
  {
   "cell_type": "code",
   "execution_count": 22,
   "metadata": {},
   "outputs": [],
   "source": [
    "# Create a tensor\n",
    "tensor_A = torch.rand(4, 4)\n",
    "tensor_B  = torch.rand(4, 4)\n",
    "tensor_C = tensor_A + tensor_B\n",
    "tensor_C = tensor_C *2"
   ]
  },
  {
   "cell_type": "code",
   "execution_count": 23,
   "metadata": {},
   "outputs": [
    {
     "data": {
      "text/plain": [
       "tensor([[0.5113, 0.4465, 0.2606, 0.1123],\n",
       "        [0.6789, 0.8329, 0.1449, 0.3549],\n",
       "        [0.2018, 0.7908, 0.4601, 0.4180],\n",
       "        [0.0338, 0.7394, 0.7284, 0.4803]])"
      ]
     },
     "execution_count": 23,
     "metadata": {},
     "output_type": "execute_result"
    }
   ],
   "source": [
    "tensor_A"
   ]
  },
  {
   "cell_type": "code",
   "execution_count": 24,
   "metadata": {},
   "outputs": [
    {
     "data": {
      "text/plain": [
       "tensor([[0.8984, 0.7227, 0.1549, 0.7072],\n",
       "        [0.3756, 0.7998, 0.8122, 0.8488],\n",
       "        [0.2413, 0.0612, 0.1155, 0.6041],\n",
       "        [0.4397, 0.9284, 0.7028, 0.4061]])"
      ]
     },
     "execution_count": 24,
     "metadata": {},
     "output_type": "execute_result"
    }
   ],
   "source": [
    "tensor_B"
   ]
  },
  {
   "cell_type": "code",
   "execution_count": 25,
   "metadata": {},
   "outputs": [
    {
     "data": {
      "text/plain": [
       "tensor([[2.8194, 2.3382, 0.8309, 1.6390],\n",
       "        [2.1090, 3.2654, 1.9142, 2.4074],\n",
       "        [0.8861, 1.7040, 1.1514, 2.0444],\n",
       "        [0.9470, 3.3356, 2.8625, 1.7728]])"
      ]
     },
     "execution_count": 25,
     "metadata": {},
     "output_type": "execute_result"
    }
   ],
   "source": [
    "tensor_C"
   ]
  },
  {
   "cell_type": "markdown",
   "metadata": {},
   "source": [
    "## Matrix multiplication @\n",
    "\n",
    "The inner dimensions must match: <br>\n",
    "(3, 2) @ (3, 2) won't work<br>\n",
    "(2, 3) @ (3, 2) will work<br>\n",
    "(3, 2) @ (2, 3) will work<br>\n",
    "The resulting matrix has the shape of the outer dimensions:<br>\n",
    "(2, 3) @ (3, 2) -> (2, 2)<br>\n",
    "(3, 2) @ (2, 3) -> (3, 3)<br>\n",
    "**Note**: \"@\" in Python is the symbol for matrix multiplication."
   ]
  },
  {
   "cell_type": "code",
   "execution_count": 26,
   "metadata": {},
   "outputs": [
    {
     "data": {
      "text/plain": [
       "tensor([[0.4594, 0.3226, 0.0404, 0.0794],\n",
       "        [0.2550, 0.6662, 0.1177, 0.3013],\n",
       "        [0.0487, 0.0484, 0.0532, 0.2526],\n",
       "        [0.0149, 0.6865, 0.5120, 0.1950]])"
      ]
     },
     "execution_count": 26,
     "metadata": {},
     "output_type": "execute_result"
    }
   ],
   "source": [
    "tensor_A *tensor_B"
   ]
  },
  {
   "cell_type": "code",
   "execution_count": 33,
   "metadata": {},
   "outputs": [
    {
     "name": "stdout",
     "output_type": "stream",
     "text": [
      "CPU times: user 270 μs, sys: 105 μs, total: 375 μs\n",
      "Wall time: 334 μs\n"
     ]
    },
    {
     "data": {
      "text/plain": [
       "tensor([[0.7393, 0.8468, 0.5509, 0.9436],\n",
       "        [1.1138, 1.4952, 1.0479, 1.4187],\n",
       "        [0.7731, 1.1946, 1.0205, 1.2616],\n",
       "        [0.6950, 1.1063, 1.0276, 1.2867]])"
      ]
     },
     "execution_count": 33,
     "metadata": {},
     "output_type": "execute_result"
    }
   ],
   "source": [
    "%%time\n",
    "tensor_A @ tensor_B # this is matrix multiplication"
   ]
  },
  {
   "cell_type": "code",
   "execution_count": 34,
   "metadata": {},
   "outputs": [
    {
     "name": "stdout",
     "output_type": "stream",
     "text": [
      "CPU times: user 190 μs, sys: 49 μs, total: 239 μs\n",
      "Wall time: 192 μs\n"
     ]
    },
    {
     "data": {
      "text/plain": [
       "tensor([[0.7393, 0.8468, 0.5509, 0.9436],\n",
       "        [1.1138, 1.4952, 1.0479, 1.4187],\n",
       "        [0.7731, 1.1946, 1.0205, 1.2616],\n",
       "        [0.6950, 1.1063, 1.0276, 1.2867]])"
      ]
     },
     "execution_count": 34,
     "metadata": {},
     "output_type": "execute_result"
    }
   ],
   "source": [
    "%%time\n",
    "torch.matmul(tensor_A, tensor_B)"
   ]
  },
  {
   "cell_type": "markdown",
   "metadata": {},
   "source": [
    "## matmul vs @ operation\n",
    "which one is faster ?"
   ]
  },
  {
   "cell_type": "markdown",
   "metadata": {},
   "source": [
    "## lets explore a linear layer first"
   ]
  },
  {
   "cell_type": "code",
   "execution_count": 41,
   "metadata": {},
   "outputs": [
    {
     "name": "stdout",
     "output_type": "stream",
     "text": [
      "Input shape: torch.Size([2])\n",
      "\n",
      "Output:\n",
      "tensor([ 0.7892, -0.1060,  0.6213,  0.1798,  0.3332,  0.7288],\n",
      "       grad_fn=<ViewBackward0>)\n",
      "\n",
      "Output shape: torch.Size([6])\n"
     ]
    }
   ],
   "source": [
    "# Since the linear layer starts with a random weights matrix, let's make it reproducible (more on this later)\n",
    "torch.manual_seed(42)\n",
    "tensor_A  = torch.rand([2])\n",
    "# This uses matrix multiplication\n",
    "linear = torch.nn.Linear(in_features=2, # in_features = matches inner dimension of input \n",
    "                         out_features=6) # out_features = describes outer value \n",
    "x = tensor_A\n",
    "output = linear(x)\n",
    "print(f\"Input shape: {x.shape}\\n\")\n",
    "print(f\"Output:\\n{output}\\n\\nOutput shape: {output.shape}\")"
   ]
  },
  {
   "cell_type": "markdown",
   "metadata": {},
   "source": [
    "## Finding the min, max, mean, sum, etc (aggregation)"
   ]
  },
  {
   "cell_type": "code",
   "execution_count": 43,
   "metadata": {},
   "outputs": [
    {
     "data": {
      "text/plain": [
       "tensor([ 0, 10, 20, 30, 40, 50, 60, 70, 80, 90])"
      ]
     },
     "execution_count": 43,
     "metadata": {},
     "output_type": "execute_result"
    }
   ],
   "source": [
    "x = torch.arange(0, 100, 10)\n",
    "x"
   ]
  },
  {
   "cell_type": "code",
   "execution_count": 44,
   "metadata": {},
   "outputs": [
    {
     "name": "stdout",
     "output_type": "stream",
     "text": [
      "Minimum: 0\n",
      "Maximum: 90\n",
      "Mean: 45.0\n",
      "Sum: 450\n"
     ]
    }
   ],
   "source": [
    "\n",
    "#Now let's perform some aggregation.\n",
    "\n",
    "print(f\"Minimum: {x.min()}\")\n",
    "print(f\"Maximum: {x.max()}\")\n",
    "# print(f\"Mean: {x.mean()}\") # this will error\n",
    "print(f\"Mean: {x.type(torch.float32).mean()}\") # won't work without float datatype\n",
    "print(f\"Sum: {x.sum()}\")"
   ]
  },
  {
   "cell_type": "code",
   "execution_count": 47,
   "metadata": {},
   "outputs": [
    {
     "data": {
      "text/plain": [
       "tensor([ 0., 10., 20., 30., 40., 50., 60., 70., 80., 90.])"
      ]
     },
     "execution_count": 47,
     "metadata": {},
     "output_type": "execute_result"
    }
   ],
   "source": [
    "x.type(torch.float32)"
   ]
  },
  {
   "cell_type": "code",
   "execution_count": 45,
   "metadata": {},
   "outputs": [
    {
     "ename": "RuntimeError",
     "evalue": "mean(): could not infer output dtype. Input dtype must be either a floating point or complex dtype. Got: Long",
     "output_type": "error",
     "traceback": [
      "\u001b[31m---------------------------------------------------------------------------\u001b[39m",
      "\u001b[31mRuntimeError\u001b[39m                              Traceback (most recent call last)",
      "\u001b[36mCell\u001b[39m\u001b[36m \u001b[39m\u001b[32mIn[45]\u001b[39m\u001b[32m, line 1\u001b[39m\n\u001b[32m----> \u001b[39m\u001b[32m1\u001b[39m \u001b[43mx\u001b[49m\u001b[43m.\u001b[49m\u001b[43mmean\u001b[49m\u001b[43m(\u001b[49m\u001b[43m)\u001b[49m\n",
      "\u001b[31mRuntimeError\u001b[39m: mean(): could not infer output dtype. Input dtype must be either a floating point or complex dtype. Got: Long"
     ]
    }
   ],
   "source": [
    "x.mean()"
   ]
  },
  {
   "cell_type": "markdown",
   "metadata": {},
   "source": [
    "## Reshaping, stacking, squeezing and unsqueezing"
   ]
  },
  {
   "cell_type": "code",
   "execution_count": 68,
   "metadata": {},
   "outputs": [
    {
     "data": {
      "text/plain": [
       "tensor([0.7980, 0.8399, 0.1374, 0.2331, 0.9578, 0.3313, 0.3227, 0.0162, 0.2137,\n",
       "        0.6249, 0.4340, 0.1371])"
      ]
     },
     "execution_count": 68,
     "metadata": {},
     "output_type": "execute_result"
    }
   ],
   "source": [
    "tensor_A = torch.rand([3,4])\n",
    "torch.reshape(tensor_A, (12, ))"
   ]
  },
  {
   "cell_type": "code",
   "execution_count": 69,
   "metadata": {},
   "outputs": [
    {
     "data": {
      "text/plain": [
       "tensor([[0.7980, 0.8399, 0.1374, 0.2331],\n",
       "        [0.9578, 0.3313, 0.3227, 0.0162],\n",
       "        [0.2137, 0.6249, 0.4340, 0.1371]])"
      ]
     },
     "execution_count": 69,
     "metadata": {},
     "output_type": "execute_result"
    }
   ],
   "source": [
    "tensor_A"
   ]
  },
  {
   "cell_type": "code",
   "execution_count": 70,
   "metadata": {},
   "outputs": [
    {
     "data": {
      "text/plain": [
       "tensor([0.7980, 0.8399, 0.1374, 0.2331, 0.9578, 0.3313, 0.3227, 0.0162, 0.2137,\n",
       "        0.6249, 0.4340, 0.1371])"
      ]
     },
     "execution_count": 70,
     "metadata": {},
     "output_type": "execute_result"
    }
   ],
   "source": [
    "torch.reshape(tensor_A, (12, ))"
   ]
  },
  {
   "cell_type": "code",
   "execution_count": 71,
   "metadata": {},
   "outputs": [],
   "source": [
    "tensor_B = tensor_A.view((12,))"
   ]
  },
  {
   "cell_type": "code",
   "execution_count": 60,
   "metadata": {},
   "outputs": [],
   "source": [
    "tensor_B = tensor_B+1"
   ]
  },
  {
   "cell_type": "code",
   "execution_count": 72,
   "metadata": {},
   "outputs": [],
   "source": [
    "tensor_A[0,0]=10"
   ]
  },
  {
   "cell_type": "code",
   "execution_count": 75,
   "metadata": {},
   "outputs": [],
   "source": [
    "tensor_A = tensor_A+1"
   ]
  },
  {
   "cell_type": "code",
   "execution_count": 76,
   "metadata": {},
   "outputs": [
    {
     "data": {
      "text/plain": [
       "tensor([10.0000,  0.8399,  0.1374,  0.2331,  0.9578,  0.3313,  0.3227,  0.0162,\n",
       "         0.2137,  0.6249,  0.4340,  0.1371])"
      ]
     },
     "execution_count": 76,
     "metadata": {},
     "output_type": "execute_result"
    }
   ],
   "source": [
    "tensor_B"
   ]
  },
  {
   "cell_type": "markdown",
   "metadata": {},
   "source": [
    "## Difference between view and reshape\n",
    "\n",
    "- Both view() and reshape() can reshape a contiguous tensor into a new shape, creating a view and thus sharing the underlying data. Changes in one reflect in the other.<br>\n",
    "- view() will fail if you try to use it on a non-contiguous tensor.<br>\n",
    "- reshape() can successfully reshape a non-contiguous tensor by creating a copy of the data. In this case, modifications to the reshaped tensor will not affect the original tensor.<br>"
   ]
  },
  {
   "cell_type": "code",
   "execution_count": 67,
   "metadata": {},
   "outputs": [
    {
     "name": "stdout",
     "output_type": "stream",
     "text": [
      "Original contiguous tensor: tensor([0, 1, 2, 3, 4, 5]), Shape: torch.Size([6]), Contiguous: True\n",
      "Viewed tensor (from contiguous): tensor([[0, 1, 2],\n",
      "        [3, 4, 5]]), Shape: torch.Size([2, 3]), Contiguous: True\n",
      "Original contiguous tensor (after view modification): tensor([99,  1,  2,  3,  4,  5])\n"
     ]
    }
   ],
   "source": [
    "import torch\n",
    "\n",
    "# Create a contiguous tensor\n",
    "contiguous_tensor = torch.arange(6)\n",
    "print(f\"Original contiguous tensor: {contiguous_tensor}, Shape: {contiguous_tensor.shape}, Contiguous: {contiguous_tensor.is_contiguous()}\")\n",
    "\n",
    "# Using view() on a contiguous tensor (returns a view)\n",
    "viewed_tensor = contiguous_tensor.view(2, 3)\n",
    "print(f\"Viewed tensor (from contiguous): {viewed_tensor}, Shape: {viewed_tensor.shape}, Contiguous: {viewed_tensor.is_contiguous()}\")\n",
    "\n",
    "# Modifying the viewed tensor also changes the original\n",
    "viewed_tensor[0, 0] = 99\n",
    "print(f\"Original contiguous tensor (after view modification): {contiguous_tensor}\")\n"
   ]
  },
  {
   "cell_type": "code",
   "execution_count": 77,
   "metadata": {},
   "outputs": [
    {
     "name": "stdout",
     "output_type": "stream",
     "text": [
      "Original non-contiguous tensor: tensor([99,  1,  2,  3,  4,  5]), Shape: torch.Size([6]), Contiguous: True\n"
     ]
    }
   ],
   "source": [
    "# Create a non-contiguous tensor using transpose()\n",
    "non_contiguous_tensor = contiguous_tensor.T\n",
    "print(f\"Original non-contiguous tensor: {non_contiguous_tensor}, Shape: {non_contiguous_tensor.shape}, Contiguous: {non_contiguous_tensor.is_contiguous()}\")\n",
    "\n",
    "# Using view() on a non-contiguous tensor (will raise an error)\n",
    "try:\n",
    "    non_contiguous_tensor.view(2, 3)\n",
    "except RuntimeError as e:\n",
    "    print(f\"Error using view() on non-contiguous tensor: {e}\")"
   ]
  },
  {
   "cell_type": "code",
   "execution_count": 78,
   "metadata": {},
   "outputs": [
    {
     "name": "stdout",
     "output_type": "stream",
     "text": [
      "tensor([[ 0,  1,  2],\n",
      "        [ 3,  4,  5],\n",
      "        [ 6,  7,  8],\n",
      "        [ 9, 10, 11]]) (3, 1)\n"
     ]
    }
   ],
   "source": [
    "# Create a tensor of shape [4, 3]\n",
    "x = torch.arange(12).view(4, 3)\n",
    "print(x, x.stride())"
   ]
  },
  {
   "cell_type": "code",
   "execution_count": 82,
   "metadata": {},
   "outputs": [],
   "source": [
    "tensor_B = tensor_A.reshape([1, 12])"
   ]
  },
  {
   "cell_type": "code",
   "execution_count": 86,
   "metadata": {},
   "outputs": [
    {
     "data": {
      "text/plain": [
       "torch.Size([1, 12])"
      ]
     },
     "execution_count": 86,
     "metadata": {},
     "output_type": "execute_result"
    }
   ],
   "source": [
    "tensor_B.shape"
   ]
  },
  {
   "cell_type": "code",
   "execution_count": 88,
   "metadata": {},
   "outputs": [
    {
     "data": {
      "text/plain": [
       "torch.Size([12])"
      ]
     },
     "execution_count": 88,
     "metadata": {},
     "output_type": "execute_result"
    }
   ],
   "source": [
    "torch.squeeze(tensor_B).shape"
   ]
  },
  {
   "cell_type": "code",
   "execution_count": null,
   "metadata": {},
   "outputs": [
    {
     "data": {
      "text/plain": [
       "tensor([[11.0000,  1.8399,  1.1374,  1.2331],\n",
       "        [ 1.9578,  1.3313,  1.3227,  1.0162],\n",
       "        [ 1.2137,  1.6249,  1.4340,  1.1371]])"
      ]
     },
     "execution_count": 92,
     "metadata": {},
     "output_type": "execute_result"
    }
   ],
   "source": [
    "tensor_A[:, 1]"
   ]
  },
  {
   "cell_type": "code",
   "execution_count": 96,
   "metadata": {},
   "outputs": [
    {
     "data": {
      "text/plain": [
       "tensor([[1.8399, 1.1374],\n",
       "        [1.3313, 1.3227],\n",
       "        [1.6249, 1.4340]])"
      ]
     },
     "execution_count": 96,
     "metadata": {},
     "output_type": "execute_result"
    }
   ],
   "source": [
    "tensor_A[:, 1:3]"
   ]
  },
  {
   "cell_type": "code",
   "execution_count": 93,
   "metadata": {},
   "outputs": [
    {
     "data": {
      "text/plain": [
       "torch.Size([3, 4])"
      ]
     },
     "execution_count": 93,
     "metadata": {},
     "output_type": "execute_result"
    }
   ],
   "source": [
    "tensor_A.shape"
   ]
  },
  {
   "cell_type": "code",
   "execution_count": 97,
   "metadata": {},
   "outputs": [
    {
     "name": "stdout",
     "output_type": "stream",
     "text": [
      "zsh:1: command not found: nvidia-smi\n"
     ]
    }
   ],
   "source": [
    "!nvidia-smi"
   ]
  },
  {
   "cell_type": "code",
   "execution_count": 100,
   "metadata": {},
   "outputs": [
    {
     "data": {
      "text/plain": [
       "True"
      ]
     },
     "execution_count": 100,
     "metadata": {},
     "output_type": "execute_result"
    }
   ],
   "source": [
    "# Check for Apple Silicon GPU\n",
    "import torch\n",
    "torch.backends.mps.is_available() # Note this will print false if you're not running on a Mac"
   ]
  },
  {
   "cell_type": "code",
   "execution_count": 104,
   "metadata": {},
   "outputs": [
    {
     "data": {
      "text/plain": [
       "1"
      ]
     },
     "execution_count": 104,
     "metadata": {},
     "output_type": "execute_result"
    }
   ],
   "source": [
    "torch.mps.device_count()"
   ]
  },
  {
   "cell_type": "code",
   "execution_count": 16,
   "metadata": {},
   "outputs": [
    {
     "data": {
      "text/plain": [
       "'mps'"
      ]
     },
     "execution_count": 16,
     "metadata": {},
     "output_type": "execute_result"
    }
   ],
   "source": [
    "# Set device type\n",
    "device = \"mps\" if torch.backends.mps.is_available() else \"cpu\"\n",
    "device"
   ]
  },
  {
   "cell_type": "code",
   "execution_count": 102,
   "metadata": {},
   "outputs": [
    {
     "name": "stdout",
     "output_type": "stream",
     "text": [
      "tensor([1, 2, 3]) cpu\n"
     ]
    },
    {
     "data": {
      "text/plain": [
       "tensor([1, 2, 3], device='mps:0')"
      ]
     },
     "execution_count": 102,
     "metadata": {},
     "output_type": "execute_result"
    }
   ],
   "source": [
    "# Create tensor (default on CPU)\n",
    "tensor = torch.tensor([1, 2, 3])\n",
    "\n",
    "# Tensor not on GPU\n",
    "print(tensor, tensor.device)\n",
    "\n",
    "# Move tensor to GPU (if available)\n",
    "tensor_on_gpu = tensor.to(device)\n",
    "tensor_on_gpu"
   ]
  },
  {
   "cell_type": "markdown",
   "metadata": {},
   "source": [
    " Can not convert tensors on gpu to numpy directly. wil have to shift the tensor to CPU and then to numpy"
   ]
  },
  {
   "cell_type": "code",
   "execution_count": 105,
   "metadata": {},
   "outputs": [
    {
     "ename": "TypeError",
     "evalue": "can't convert mps:0 device type tensor to numpy. Use Tensor.cpu() to copy the tensor to host memory first.",
     "output_type": "error",
     "traceback": [
      "\u001b[31m---------------------------------------------------------------------------\u001b[39m",
      "\u001b[31mTypeError\u001b[39m                                 Traceback (most recent call last)",
      "\u001b[36mCell\u001b[39m\u001b[36m \u001b[39m\u001b[32mIn[105]\u001b[39m\u001b[32m, line 2\u001b[39m\n\u001b[32m      1\u001b[39m \u001b[38;5;66;03m# If tensor is on GPU, can't transform it to NumPy (this will error)\u001b[39;00m\n\u001b[32m----> \u001b[39m\u001b[32m2\u001b[39m \u001b[43mtensor_on_gpu\u001b[49m\u001b[43m.\u001b[49m\u001b[43mnumpy\u001b[49m\u001b[43m(\u001b[49m\u001b[43m)\u001b[49m\n",
      "\u001b[31mTypeError\u001b[39m: can't convert mps:0 device type tensor to numpy. Use Tensor.cpu() to copy the tensor to host memory first."
     ]
    }
   ],
   "source": [
    "# If tensor is on GPU, can't transform it to NumPy (this will error)\n",
    "tensor_on_gpu.numpy()"
   ]
  },
  {
   "cell_type": "code",
   "execution_count": 106,
   "metadata": {},
   "outputs": [
    {
     "data": {
      "text/plain": [
       "array([1, 2, 3])"
      ]
     },
     "execution_count": 106,
     "metadata": {},
     "output_type": "execute_result"
    }
   ],
   "source": [
    "# Instead, copy the tensor back to cpu\n",
    "tensor_back_on_cpu = tensor_on_gpu.cpu().numpy()\n",
    "tensor_back_on_cpu"
   ]
  },
  {
   "cell_type": "markdown",
   "metadata": {},
   "source": [
    "## test the speed up of MPS vs CPU"
   ]
  },
  {
   "cell_type": "markdown",
   "metadata": {},
   "source": [
    "<span style=\"color: red;\">This code will kill macbook air M1</span>"
   ]
  },
  {
   "cell_type": "code",
   "execution_count": 20,
   "metadata": {},
   "outputs": [
    {
     "name": "stdout",
     "output_type": "stream",
     "text": [
      "Execution time 0: 0.000728 seconds\n",
      "Execution time 5000: 0.228495 seconds\n",
      "Execution time 10000: 0.733108 seconds\n",
      "Execution time 15000: 2.468354 seconds\n",
      "Execution time 20000: 4.552057 seconds\n"
     ]
    }
   ],
   "source": [
    "import time\n",
    "import numpy as np\n",
    "import torch\n",
    "n = 20000\n",
    "\n",
    "N_list = list(np.linspace(0, n, 5))\n",
    "\n",
    "for N in N_list:\n",
    "    # Start the timer\n",
    "    start_time = time.time()\n",
    "    N = int(N)\n",
    "    tensor_A = torch.rand([N,N])\n",
    "    tensor_B = torch.rand([N,N])\n",
    "    tensor_C = tensor_A + tensor_B\n",
    "\n",
    "    # End the timer\n",
    "    end_time = time.time()\n",
    "\n",
    "    # Execution time\n",
    "    execution_time = end_time - start_time\n",
    "    print(f\"Execution time {N}: {execution_time:.6f} seconds\")\n"
   ]
  },
  {
   "cell_type": "code",
   "execution_count": 21,
   "metadata": {},
   "outputs": [
    {
     "name": "stdout",
     "output_type": "stream",
     "text": [
      "Execution time 0: 0.297556 seconds\n",
      "Execution time 5000: 2.398636 seconds\n",
      "Execution time 10000: 3.530839 seconds\n",
      "Execution time 15000: 2.009145 seconds\n",
      "Execution time 20000: 4.749951 seconds\n"
     ]
    }
   ],
   "source": [
    "import time\n",
    "import numpy as np\n",
    "n = 20000\n",
    "device = \"mps\" if torch.backends.mps.is_available() else \"cpu\"\n",
    "\n",
    "N_list = list(np.linspace(0, n, 5))\n",
    "\n",
    "for N in N_list:\n",
    "    # Start the timer\n",
    "    start_time = time.time()\n",
    "    N = int(N)\n",
    "    tensor_A = torch.rand([N,N]).to(device)\n",
    "    tensor_B = torch.rand([N,N]).to(device)\n",
    "    tensor_C = tensor_A + tensor_B\n",
    "\n",
    "    # End the timer\n",
    "    end_time = time.time()\n",
    "\n",
    "    # Execution time\n",
    "    execution_time = end_time - start_time\n",
    "    print(f\"Execution time {N}: {execution_time:.6f} seconds\")\n"
   ]
  },
  {
   "cell_type": "code",
   "execution_count": null,
   "metadata": {},
   "outputs": [],
   "source": []
  }
 ],
 "metadata": {
  "kernelspec": {
   "display_name": "learn_llm",
   "language": "python",
   "name": "python3"
  },
  "language_info": {
   "codemirror_mode": {
    "name": "ipython",
    "version": 3
   },
   "file_extension": ".py",
   "mimetype": "text/x-python",
   "name": "python",
   "nbconvert_exporter": "python",
   "pygments_lexer": "ipython3",
   "version": "3.13.4"
  }
 },
 "nbformat": 4,
 "nbformat_minor": 2
}
