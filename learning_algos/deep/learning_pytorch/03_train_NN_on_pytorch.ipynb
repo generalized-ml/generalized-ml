{
 "cells": [
  {
   "cell_type": "markdown",
   "metadata": {},
   "source": [
    "# My Learning from the notebook - \n",
    "\n",
    "- always forecast C classes when dealing with the classification problem\n",
    "    - if y_out -> (B, C) and y_pred is -> (B,), this is perfect\n",
    "- take care of the output dimensions always "
   ]
  },
  {
   "cell_type": "code",
   "execution_count": null,
   "metadata": {},
   "outputs": [],
   "source": []
  },
  {
   "cell_type": "markdown",
   "metadata": {},
   "source": [
    "# We will train a NN (MLP) in this notebook\n",
    "\n"
   ]
  },
  {
   "cell_type": "code",
   "execution_count": 295,
   "metadata": {},
   "outputs": [],
   "source": [
    "import pandas as pd\n",
    "df_train = pd.read_csv(\"../../../data/classification/mobile_price_prediction/train.csv\")"
   ]
  },
  {
   "cell_type": "code",
   "execution_count": 296,
   "metadata": {},
   "outputs": [],
   "source": [
    "X = df_train.drop(columns = [\"price_range\"])\n",
    "y = df_train[\"price_range\"]"
   ]
  },
  {
   "cell_type": "markdown",
   "metadata": {},
   "source": [
    "## doing train test split\n",
    "the test data does not have labels so we only have the train data to play with"
   ]
  },
  {
   "cell_type": "code",
   "execution_count": 297,
   "metadata": {},
   "outputs": [],
   "source": [
    "from sklearn.model_selection import train_test_split\n",
    "from sklearn.preprocessing import StandardScaler\n",
    "\n",
    "X_train, X_test, y_train, y_test = train_test_split(X, y, test_size = 0.2)\n",
    "X_train, X_val, y_train, y_val = train_test_split(X_train, y_train, test_size = 0.2)\n",
    "# Initialize the scaler\n",
    "scaler = StandardScaler()\n",
    "\n",
    "# Fit on training data and transform both train and test sets\n",
    "X_train = scaler.fit_transform(X_train)\n",
    "X_test = scaler.transform(X_test)\n",
    "X_val = scaler.transform(X_val)\n",
    "\n"
   ]
  },
  {
   "cell_type": "markdown",
   "metadata": {},
   "source": [
    "## turning the dataset into tensors now"
   ]
  },
  {
   "cell_type": "code",
   "execution_count": 298,
   "metadata": {},
   "outputs": [],
   "source": [
    "import torch\n",
    "import numpy as np\n",
    "X_train = torch.from_numpy(np.asarray(X_train)).type(torch.float)\n",
    "X_test = torch.from_numpy(np.asarray(X_test)).type(torch.float)\n",
    "X_val = torch.from_numpy(np.asarray(X_val)).type(torch.float)\n",
    "\n",
    "y_train = torch.from_numpy(np.asarray(y_train)).type(torch.long)\n",
    "y_val = torch.from_numpy(np.asarray(y_val)).type(torch.long)\n",
    "y_test = torch.from_numpy(np.asarray(y_test)).type(torch.long)\n"
   ]
  },
  {
   "cell_type": "markdown",
   "metadata": {},
   "source": [
    "## Main part - Creating a model class (MLP)\n",
    "\n",
    "[TensorFlow Playground – An Interactive Neural Network Explorer](https://playground.tensorflow.org/#activation=relu&batchSize=14&dataset=xor&regDataset=reg-plane&learningRate=0.03&regularizationRate=0&noise=10&networkShape=6,4,2,2,2,2&seed=0.36612&showTestData=false&discretize=false&percTrainData=50&x=true&y=true&xTimesY=false&xSquared=false&ySquared=false&cosX=false&sinX=false&cosY=false&sinY=false&collectStats=false&problem=classification&initZero=false&hideText=false&showTestData_hide=false&discretize_hide=false)\n",
    "\n",
    "This interactive tool, introduced by the TensorFlow team in 2017, lets you **experiment with neural networks right in your browser**. You can tweak activation functions, network structure, data noise, and more—making it an excellent resource for both beginners and experienced practitioners to visually understand how neural networks learn.\n"
   ]
  },
  {
   "cell_type": "code",
   "execution_count": 302,
   "metadata": {},
   "outputs": [
    {
     "data": {
      "text/plain": [
       "NN_model(\n",
       "  (layer_1): Linear(in_features=20, out_features=200, bias=True)\n",
       "  (activation_1): ReLU()\n",
       "  (layer_2): Linear(in_features=200, out_features=200, bias=True)\n",
       "  (activation_2): ReLU()\n",
       "  (layer_3): Linear(in_features=200, out_features=4, bias=True)\n",
       ")"
      ]
     },
     "execution_count": 302,
     "metadata": {},
     "output_type": "execute_result"
    }
   ],
   "source": [
    "# Import necessary module\n",
    "from torch import nn\n",
    "device = 'cpu'\n",
    "from torch.nn.functional import normalize\n",
    "# Define input and output layer dimensions\n",
    "input_shape = X_train.shape[1]  # Number of input features\n",
    "hidden_layer_shape = 200         # Number of neurons in the hidden layer\n",
    "output_layer = 4             # Output dimension (e.g., regression output)\n",
    "\n",
    "# Define a neural network model by subclassing nn.Module\n",
    "class NN_model(nn.Module):\n",
    "    def __init__(self):\n",
    "        super().__init__()\n",
    "        # Define the first linear transformation (input to hidden layer)\n",
    "        self.layer_1 = nn.Linear(in_features=input_shape, out_features=hidden_layer_shape)\n",
    "\n",
    "        self.activation_1 = nn.ReLU()\n",
    "        # Define the second linear transformation (hidden to output layer)\n",
    "        self.layer_2 = nn.Linear(in_features=hidden_layer_shape, out_features=hidden_layer_shape)\n",
    "        self.activation_2 = nn.ReLU()\n",
    "\n",
    "        self.layer_3 = nn.Linear(in_features=hidden_layer_shape, out_features=output_layer)\n",
    "\n",
    "        # self.activation = nn.Sigmoid()\n",
    "    # Forward pass: defines how input data flows through the model\n",
    "    def forward(self, x):\n",
    "        # Pass data through layer 1, then through layer 2, and return the output\n",
    "        x_hidden  = self.layer_1(x)\n",
    "        x_hidden = self.activation_1 (x_hidden)\n",
    "        x_hidden = self.layer_2(x_hidden)\n",
    "        x_hidden = self.activation_2 (x_hidden)\n",
    "\n",
    "        y_out = self.layer_3(x_hidden)\n",
    "        \n",
    "        # y_out_ = self.activation(y_out)\n",
    "        # print(\"max\", torch.max(y_out),\n",
    "        #        \"min\", torch.min(y_out))\n",
    "\n",
    "        return y_out\n",
    "\n",
    "\n",
    "# Instantiate the model and move it to the specified device\n",
    "model_0 = NN_model().to(device)\n",
    "model_0"
   ]
  },
  {
   "cell_type": "markdown",
   "metadata": {},
   "source": [
    "## Setup a loss function"
   ]
  },
  {
   "cell_type": "code",
   "execution_count": 303,
   "metadata": {},
   "outputs": [],
   "source": [
    "# Create a loss function\n",
    "# loss_fn = nn.BCELoss() # BCELoss = no sigmoid built-in\n",
    "loss_fn = nn.CrossEntropyLoss() # BCEWithLogitsLoss = sigmoid built-in\n",
    "\n",
    "# Create an optimizer\n",
    "optimizer = torch.optim.Adam(model_0.parameters(), lr=0.01)\n",
    "\n",
    "# Calculate accuracy (a classification metric)\n",
    "def accuracy_fn(y_true, y_pred):\n",
    "    correct = torch.eq(y_true, y_pred).sum().item() # torch.eq() calculates where two tensors are equal\n",
    "    acc = (correct / len(y_pred)) * 100 \n",
    "    return acc"
   ]
  },
  {
   "cell_type": "code",
   "execution_count": 304,
   "metadata": {},
   "outputs": [
    {
     "name": "stdout",
     "output_type": "stream",
     "text": [
      "Epoch: 0 | Loss: 1.39656, Accuracy: 21.72% | Test loss: 1.27231, Test acc: 42.19%\n",
      "Epoch: 10 | Loss: 0.17753, Accuracy: 95.70% | Test loss: 0.26347, Test acc: 88.12%\n",
      "Epoch: 20 | Loss: 0.01430, Accuracy: 100.00% | Test loss: 0.25825, Test acc: 90.31%\n",
      "Epoch: 30 | Loss: 0.00171, Accuracy: 100.00% | Test loss: 0.34690, Test acc: 91.56%\n",
      "Epoch: 40 | Loss: 0.00048, Accuracy: 100.00% | Test loss: 0.39399, Test acc: 90.00%\n",
      "Epoch: 50 | Loss: 0.00025, Accuracy: 100.00% | Test loss: 0.41976, Test acc: 90.94%\n",
      "Epoch: 60 | Loss: 0.00016, Accuracy: 100.00% | Test loss: 0.42133, Test acc: 90.62%\n",
      "Epoch: 70 | Loss: 0.00013, Accuracy: 100.00% | Test loss: 0.43008, Test acc: 90.62%\n",
      "Epoch: 80 | Loss: 0.00011, Accuracy: 100.00% | Test loss: 0.43209, Test acc: 90.94%\n",
      "Epoch: 90 | Loss: 0.00010, Accuracy: 100.00% | Test loss: 0.43179, Test acc: 90.94%\n"
     ]
    }
   ],
   "source": [
    "epochs_nums = 100\n",
    "\n",
    "for epoch in range(epochs_nums):\n",
    "\n",
    "    model_0.train()\n",
    "    \n",
    "    y_logits = model_0(X_train)\n",
    "\n",
    "    # 1. Forward pass (model outputs raw logits)\n",
    "    # y_logits = y_logits.squeeze()\n",
    "\n",
    "    y_pred = torch.argmax(y_logits, dim=1)\n",
    "\n",
    "    # 2. Calculate loss/accuracy\n",
    "    # loss = loss_fn(torch.sigmoid(y_logits), # Using nn.BCELoss you need torch.sigmoid()\n",
    "    #                y_train) \n",
    "    loss = loss_fn(y_logits, # Using nn.BCEWithLogitsLoss works with raw logits\n",
    "                   y_train) \n",
    "    acc = accuracy_fn(y_true=y_train, \n",
    "                      y_pred=y_pred)\n",
    "    \n",
    "    # 3. Optimizer zero grad\n",
    "    optimizer.zero_grad()\n",
    "\n",
    "    # 4. Loss backwards\n",
    "    loss.backward()\n",
    "\n",
    "    # 5. Optimizer step\n",
    "    optimizer.step()\n",
    "\n",
    "    ### Testing\n",
    "    model_0.eval()\n",
    "    with torch.inference_mode():\n",
    "        # 1. Forward pass\n",
    "        test_logits = model_0(X_val)\n",
    "        test_pred = torch.argmax(test_logits, dim=1)\n",
    "        # test_pred = torch.round(torch.sigmoid(test_logits))\n",
    "        # 2. Caculate loss/accuracy\n",
    "        test_loss = loss_fn(test_logits,\n",
    "                            y_val)\n",
    "        test_acc = accuracy_fn(y_true=y_val,\n",
    "                               y_pred=test_pred)\n",
    "\n",
    "    # Print out what's happening every 10 epochs\n",
    "    if epoch % 10 == 0:\n",
    "        print(f\"Epoch: {epoch} | Loss: {loss:.5f}, Accuracy: {acc:.2f}% | Test loss: {test_loss:.5f}, Test acc: {test_acc:.2f}%\")\n",
    "        \n",
    "\n",
    "\n",
    "    "
   ]
  },
  {
   "cell_type": "code",
   "execution_count": null,
   "metadata": {},
   "outputs": [],
   "source": []
  },
  {
   "cell_type": "code",
   "execution_count": null,
   "metadata": {},
   "outputs": [],
   "source": []
  },
  {
   "cell_type": "code",
   "execution_count": null,
   "metadata": {},
   "outputs": [],
   "source": []
  },
  {
   "cell_type": "code",
   "execution_count": null,
   "metadata": {},
   "outputs": [],
   "source": []
  }
 ],
 "metadata": {
  "kernelspec": {
   "display_name": "python_env",
   "language": "python",
   "name": "python3"
  },
  "language_info": {
   "codemirror_mode": {
    "name": "ipython",
    "version": 3
   },
   "file_extension": ".py",
   "mimetype": "text/x-python",
   "name": "python",
   "nbconvert_exporter": "python",
   "pygments_lexer": "ipython3",
   "version": "3.12.2"
  }
 },
 "nbformat": 4,
 "nbformat_minor": 2
}
