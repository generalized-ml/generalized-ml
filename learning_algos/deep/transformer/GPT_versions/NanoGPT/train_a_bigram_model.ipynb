{
 "cells": [
  {
   "cell_type": "markdown",
   "metadata": {},
   "source": [
    "# Created my Own GPT \n",
    "\n",
    "Most of the things are copied from the legend - Andrej Karpathy. Please jump on to this [Video](https://www.youtube.com/watch?v=kCc8FmEb1nY&t=644s) if you really want to hear some awesome things about transformers \n",
    "\n"
   ]
  },
  {
   "cell_type": "code",
   "execution_count": 2,
   "metadata": {},
   "outputs": [
    {
     "name": "stdout",
     "output_type": "stream",
     "text": [
      "--2025-03-24 21:52:14--  https://raw.githubusercontent.com/karpathy/char-rnn/master/data/tinyshakespeare/input.txt\n",
      "Resolving raw.githubusercontent.com (raw.githubusercontent.com)... 185.199.110.133, 185.199.111.133, 185.199.108.133, ...\n",
      "Connecting to raw.githubusercontent.com (raw.githubusercontent.com)|185.199.110.133|:443... connected.\n",
      "HTTP request sent, awaiting response... 200 OK\n",
      "Length: 1115394 (1.1M) [text/plain]\n",
      "Saving to: ‘input.txt.1’\n",
      "\n",
      "input.txt.1         100%[===================>]   1.06M  1.48MB/s    in 0.7s    \n",
      "\n",
      "2025-03-24 21:52:15 (1.48 MB/s) - ‘input.txt.1’ saved [1115394/1115394]\n",
      "\n"
     ]
    }
   ],
   "source": [
    "!wget https://raw.githubusercontent.com/karpathy/char-rnn/master/data/tinyshakespeare/input.txt"
   ]
  },
  {
   "cell_type": "code",
   "execution_count": 3,
   "metadata": {},
   "outputs": [],
   "source": [
    "with open(\"input.txt\",\"r\", encoding=\"utf-8\") as f:\n",
    "    text = f.read()"
   ]
  },
  {
   "cell_type": "code",
   "execution_count": 4,
   "metadata": {},
   "outputs": [
    {
     "name": "stdout",
     "output_type": "stream",
     "text": [
      "First Citizen:\n",
      "Before we proceed any further, hear me speak.\n",
      "\n",
      "All:\n",
      "Speak, speak.\n",
      "\n",
      "First Citizen:\n",
      "You are all resolved rather to die than to famish?\n",
      "\n",
      "All:\n",
      "Resolved. resolved.\n",
      "\n",
      "First Citizen:\n",
      "First, you know Caius Marcius is chief enemy to the people.\n",
      "\n",
      "All:\n",
      "We know't, we know't.\n",
      "\n",
      "First Citizen:\n",
      "Let us kill him, and we'll have corn at our own price.\n",
      "Is't a verdict?\n",
      "\n",
      "All:\n",
      "No more talking on't; let it be done: away, away!\n",
      "\n",
      "Second Citizen:\n",
      "One word, good citizens.\n",
      "\n",
      "First Citizen:\n",
      "We are accounted poor citizens, the patricians good.\n",
      "What authority surfeits on would relieve us: if they\n",
      "would yield us but the superfluity, while it were\n",
      "wholesome, we might guess they relieved us humanely;\n",
      "but they think we are too dear: the leanness that\n",
      "afflicts us, the object of our misery, is as an\n",
      "inventory to particularise their abundance; our\n",
      "sufferance is a gain to them Let us revenge this with\n",
      "our pikes, ere we become rakes: for the gods know I\n",
      "speak this in hunger for bread, not in thirst for revenge.\n",
      "\n",
      "\n",
      "65\n"
     ]
    },
    {
     "data": {
      "text/plain": [
       "\"\\n !$&',-.3:;?ABCDEFGHIJKLMNOPQRSTUVWXYZabcdefghijklmnopqrstuvwxyz\""
      ]
     },
     "execution_count": 4,
     "metadata": {},
     "output_type": "execute_result"
    }
   ],
   "source": [
    "print(text[0:1000])\n",
    "all_chars = sorted(list(set(text)))\n",
    "print(len(all_chars))\n",
    "\"\".join(all_chars)"
   ]
  },
  {
   "cell_type": "markdown",
   "metadata": {},
   "source": [
    "# Tokenization of characters/words\n",
    "tokenization is converting text into integers\n",
    "\n",
    "google-> sentencepiece https://github.com/google/sentencepiece\n",
    "openAI uses -> tikroken"
   ]
  },
  {
   "cell_type": "code",
   "execution_count": 5,
   "metadata": {},
   "outputs": [
    {
     "data": {
      "text/plain": [
       "65"
      ]
     },
     "execution_count": 5,
     "metadata": {},
     "output_type": "execute_result"
    }
   ],
   "source": [
    "len(all_chars)"
   ]
  },
  {
   "cell_type": "code",
   "execution_count": 6,
   "metadata": {},
   "outputs": [],
   "source": [
    "cha_to_i = {chi: x for x, chi in enumerate(all_chars)}\n",
    "i_to_cha = {x: chi for x, chi in enumerate(all_chars)}"
   ]
  },
  {
   "cell_type": "code",
   "execution_count": 7,
   "metadata": {},
   "outputs": [],
   "source": [
    "encode = lambda x: [cha_to_i[c] for c in x]\n",
    "decode = lambda x: \"\".join([i_to_cha[c] for c in x])\n"
   ]
  },
  {
   "cell_type": "code",
   "execution_count": 8,
   "metadata": {},
   "outputs": [
    {
     "data": {
      "text/plain": [
       "[20, 47, 1, 32, 46, 43, 56, 43]"
      ]
     },
     "execution_count": 8,
     "metadata": {},
     "output_type": "execute_result"
    }
   ],
   "source": [
    "encode(\"Hi There\")"
   ]
  },
  {
   "cell_type": "code",
   "execution_count": 9,
   "metadata": {},
   "outputs": [
    {
     "data": {
      "text/plain": [
       "'Hi There'"
      ]
     },
     "execution_count": 9,
     "metadata": {},
     "output_type": "execute_result"
    }
   ],
   "source": [
    "decode(encode(\"Hi There\"))"
   ]
  },
  {
   "cell_type": "markdown",
   "metadata": {},
   "source": [
    "# Train - Validation Split"
   ]
  },
  {
   "cell_type": "code",
   "execution_count": 10,
   "metadata": {},
   "outputs": [],
   "source": [
    "data = encode(text)"
   ]
  },
  {
   "cell_type": "code",
   "execution_count": 11,
   "metadata": {},
   "outputs": [],
   "source": [
    "data = [int(x) for x in data]"
   ]
  },
  {
   "cell_type": "code",
   "execution_count": 12,
   "metadata": {},
   "outputs": [],
   "source": [
    "split_ratio = 0.9\n",
    "size_ = len(text)\n",
    "cut_ = int(split_ratio *size_)\n",
    "train_data = data[0:cut_]\n",
    "val_data = data[cut_:]\n"
   ]
  },
  {
   "cell_type": "code",
   "execution_count": 13,
   "metadata": {},
   "outputs": [
    {
     "data": {
      "text/plain": [
       "[18, 47, 56, 57, 58, 1, 15, 47, 58]"
      ]
     },
     "execution_count": 13,
     "metadata": {},
     "output_type": "execute_result"
    }
   ],
   "source": [
    "# maximum length\n",
    "block_size = 8\n",
    "train_data[:block_size+1]\n"
   ]
  },
  {
   "cell_type": "code",
   "execution_count": 14,
   "metadata": {},
   "outputs": [
    {
     "name": "stdout",
     "output_type": "stream",
     "text": [
      "when input is [18] the target: 47\n",
      "when input is [18, 47] the target: 56\n",
      "when input is [18, 47, 56] the target: 57\n",
      "when input is [18, 47, 56, 57] the target: 58\n",
      "when input is [18, 47, 56, 57, 58] the target: 1\n",
      "when input is [18, 47, 56, 57, 58, 1] the target: 15\n",
      "when input is [18, 47, 56, 57, 58, 1, 15] the target: 47\n",
      "when input is [18, 47, 56, 57, 58, 1, 15, 47] the target: 58\n"
     ]
    }
   ],
   "source": [
    "x = train_data[:block_size]\n",
    "y = train_data[1:block_size+1]\n",
    "for t in range(block_size):\n",
    "    context = x[:t+1]\n",
    "    target = y[t]\n",
    "    print(f\"when input is {context} the target: {target}\")\n",
    "    "
   ]
  },
  {
   "cell_type": "markdown",
   "metadata": {},
   "source": [
    "## Creating batches of the data"
   ]
  },
  {
   "cell_type": "code",
   "execution_count": null,
   "metadata": {},
   "outputs": [
    {
     "data": {
      "text/plain": [
       "tensor([[24, 43, 58,  5, 57,  1, 46, 43],\n",
       "        [44, 53, 56,  1, 58, 46, 39, 58],\n",
       "        [52, 58,  1, 58, 46, 39, 58,  1],\n",
       "        [25, 17, 27, 10,  0, 21,  1, 54]], dtype=torch.int32)"
      ]
     },
     "execution_count": 22,
     "metadata": {},
     "output_type": "execute_result"
    }
   ],
   "source": []
  },
  {
   "cell_type": "code",
   "execution_count": null,
   "metadata": {},
   "outputs": [],
   "source": []
  },
  {
   "cell_type": "code",
   "execution_count": 42,
   "metadata": {},
   "outputs": [
    {
     "name": "stdout",
     "output_type": "stream",
     "text": [
      "inputs:\n",
      "torch.Size([4, 8])\n",
      "tensor([[24, 43, 58,  5, 57,  1, 46, 43],\n",
      "        [44, 53, 56,  1, 58, 46, 39, 58],\n",
      "        [52, 58,  1, 58, 46, 39, 58,  1],\n",
      "        [25, 17, 27, 10,  0, 21,  1, 54]])\n",
      "targets:\n",
      "torch.Size([4, 8])\n",
      "tensor([[43, 58,  5, 57,  1, 46, 43, 39],\n",
      "        [53, 56,  1, 58, 46, 39, 58,  1],\n",
      "        [58,  1, 58, 46, 39, 58,  1, 46],\n",
      "        [17, 27, 10,  0, 21,  1, 54, 39]])\n",
      "----\n",
      "when input is [24] the target: 43\n",
      "when input is [24, 43] the target: 58\n",
      "when input is [24, 43, 58] the target: 5\n",
      "when input is [24, 43, 58, 5] the target: 57\n",
      "when input is [24, 43, 58, 5, 57] the target: 1\n",
      "when input is [24, 43, 58, 5, 57, 1] the target: 46\n",
      "when input is [24, 43, 58, 5, 57, 1, 46] the target: 43\n",
      "when input is [24, 43, 58, 5, 57, 1, 46, 43] the target: 39\n",
      "when input is [44] the target: 53\n",
      "when input is [44, 53] the target: 56\n",
      "when input is [44, 53, 56] the target: 1\n",
      "when input is [44, 53, 56, 1] the target: 58\n",
      "when input is [44, 53, 56, 1, 58] the target: 46\n",
      "when input is [44, 53, 56, 1, 58, 46] the target: 39\n",
      "when input is [44, 53, 56, 1, 58, 46, 39] the target: 58\n",
      "when input is [44, 53, 56, 1, 58, 46, 39, 58] the target: 1\n",
      "when input is [52] the target: 58\n",
      "when input is [52, 58] the target: 1\n",
      "when input is [52, 58, 1] the target: 58\n",
      "when input is [52, 58, 1, 58] the target: 46\n",
      "when input is [52, 58, 1, 58, 46] the target: 39\n",
      "when input is [52, 58, 1, 58, 46, 39] the target: 58\n",
      "when input is [52, 58, 1, 58, 46, 39, 58] the target: 1\n",
      "when input is [52, 58, 1, 58, 46, 39, 58, 1] the target: 46\n",
      "when input is [25] the target: 17\n",
      "when input is [25, 17] the target: 27\n",
      "when input is [25, 17, 27] the target: 10\n",
      "when input is [25, 17, 27, 10] the target: 0\n",
      "when input is [25, 17, 27, 10, 0] the target: 21\n",
      "when input is [25, 17, 27, 10, 0, 21] the target: 1\n",
      "when input is [25, 17, 27, 10, 0, 21, 1] the target: 54\n",
      "when input is [25, 17, 27, 10, 0, 21, 1, 54] the target: 39\n"
     ]
    }
   ],
   "source": [
    "import torch\n",
    "torch.manual_seed(1337)\n",
    "batch_size = 4 # how many independent sequences will we process in parallel?\n",
    "block_size = 8 # what is the maximum context length for predictions?\n",
    "\n",
    "def get_batch(split):\n",
    "    # generate a small batch of data of inputs x and targets y\n",
    "    data = train_data if split == 'train' else val_data\n",
    "    ix = torch.randint(len(data) - block_size, (batch_size,))\n",
    "    x = torch.Tensor([data[i:i+block_size] for i in ix]) \n",
    "    x = x.to(dtype=torch.int64)\n",
    "    y = torch.Tensor([data[i+1:i+block_size+1] for i in ix])\n",
    "    y = y.to(dtype=torch.int64)\n",
    "    return x, y\n",
    "\n",
    "xb, yb = get_batch('train')\n",
    "print('inputs:')\n",
    "print(xb.shape)\n",
    "print(xb)\n",
    "print('targets:')\n",
    "print(yb.shape)\n",
    "print(yb)\n",
    "\n",
    "print('----')\n",
    "\n",
    "for b in range(batch_size): # batch dimension\n",
    "    for t in range(block_size): # time dimension\n",
    "        context = xb[b, :t+1]\n",
    "        target = yb[b,t]\n",
    "        print(f\"when input is {context.tolist()} the target: {target}\")"
   ]
  },
  {
   "cell_type": "markdown",
   "metadata": {},
   "source": [
    "# feeding the input to a simple NN model - bigram model"
   ]
  },
  {
   "cell_type": "code",
   "execution_count": 43,
   "metadata": {},
   "outputs": [],
   "source": [
    "vocab_size = 65"
   ]
  },
  {
   "cell_type": "code",
   "execution_count": 44,
   "metadata": {},
   "outputs": [],
   "source": [
    "token_embedding_table = nn.Embedding(vocab_size, vocab_size)"
   ]
  },
  {
   "cell_type": "code",
   "execution_count": 45,
   "metadata": {},
   "outputs": [],
   "source": [
    "input = torch.LongTensor([1, 2, 4])"
   ]
  },
  {
   "cell_type": "code",
   "execution_count": 46,
   "metadata": {},
   "outputs": [],
   "source": [
    "out_torch  = token_embedding_table(input)"
   ]
  },
  {
   "cell_type": "code",
   "execution_count": 47,
   "metadata": {},
   "outputs": [
    {
     "data": {
      "text/plain": [
       "tensor([[ 0.4658, -0.2573, -1.0673,  0.8353, -1.9560, -0.8003, -0.5045, -1.4267,\n",
       "          0.9059,  0.1446,  0.2280, -0.2282, -0.6885,  0.1832,  0.6004, -1.5935,\n",
       "         -1.2706,  0.6903, -0.1961,  0.0061, -0.9665,  0.3583,  0.1073, -0.4190,\n",
       "         -0.4370, -1.0012, -0.4094, -0.2104, -0.7960,  0.1298, -1.9446,  0.0315,\n",
       "         -0.7419, -0.2978,  0.0172,  0.3404,  1.1685, -0.6526,  0.3768,  0.1209,\n",
       "          2.5418, -0.6405, -1.9740, -1.1572,  0.2896,  0.6164, -0.4370,  0.1670,\n",
       "          0.4586, -1.7662,  0.5860,  0.5873,  0.2861,  0.0083, -0.2523, -0.6576,\n",
       "          0.3184, -0.5496, -1.4649, -0.5577, -0.6939, -0.3252,  1.2439,  1.3471,\n",
       "          1.6910],\n",
       "        [-0.1244, -1.6824,  1.1346, -0.0824,  0.2893,  0.8358,  0.3067, -0.7472,\n",
       "          0.7435,  0.8877, -0.3274,  0.0784, -0.3808,  0.3775, -0.1140, -0.3137,\n",
       "         -0.6293,  1.1385, -1.1347,  0.1705,  0.9947,  1.2626, -1.0572, -0.6543,\n",
       "          1.5909, -0.6995,  2.0437, -0.1656,  0.0871, -0.5277, -2.7234,  0.5097,\n",
       "         -0.8145, -0.2460, -0.9742, -0.1869,  0.5816, -2.6340, -1.3519, -0.0573,\n",
       "         -1.8540, -1.3849,  0.6588, -0.7258,  1.4280, -1.2188,  0.7507,  0.9132,\n",
       "         -1.7277,  1.3055,  0.8475,  0.0774,  0.5433, -0.8438, -0.6875,  2.1382,\n",
       "          0.5114,  1.2191,  0.0975, -0.9786, -0.4320, -1.4938,  1.0785, -0.6150,\n",
       "         -0.4589],\n",
       "        [-0.1332,  0.2119,  1.4498,  3.0554, -1.7830, -0.8323, -0.4346, -1.2480,\n",
       "          1.7574, -1.1083, -0.1269, -0.3490,  0.7520, -0.0629, -0.7111,  0.9810,\n",
       "          1.5095, -1.5489, -1.0653,  1.0056, -0.1736,  0.0512, -0.6576, -2.5729,\n",
       "          0.2498, -1.0946, -1.1594,  1.3570, -0.6387, -0.3186, -1.2942, -1.0726,\n",
       "         -0.4536,  1.5689, -0.7498,  0.3439,  0.6762, -1.3639,  0.5486,  0.0895,\n",
       "         -0.5754, -1.3580, -0.7321,  0.5259,  0.9937, -0.2821,  1.1088, -1.9881,\n",
       "          1.7347,  0.9921,  0.6654,  0.7234, -1.3185,  0.7859, -1.1501,  1.3132,\n",
       "         -0.3349,  0.1497,  1.3065, -0.0465, -0.4687, -0.1338,  0.3899, -0.2884,\n",
       "          0.5490]], grad_fn=<EmbeddingBackward0>)"
      ]
     },
     "execution_count": 47,
     "metadata": {},
     "output_type": "execute_result"
    }
   ],
   "source": [
    "out_torch"
   ]
  },
  {
   "cell_type": "code",
   "execution_count": 49,
   "metadata": {},
   "outputs": [
    {
     "name": "stdout",
     "output_type": "stream",
     "text": [
      "torch.Size([32, 65])\n",
      "tensor(4.8786, grad_fn=<NllLossBackward0>)\n",
      "\n",
      "SKIcLT;AcELMoTbvZv C?nq-QE33:CJqkOKH-q;:la!oiywkHjgChzbQ?u!3bLIgwevmyFJGUGp\n",
      "wnYWmnxKWWev-tDqXErVKLgJ\n"
     ]
    }
   ],
   "source": [
    "import torch\n",
    "import torch.nn as nn\n",
    "from torch.nn import functional as F\n",
    "torch.manual_seed(1337)\n",
    "\n",
    "class BigramLanguageModel(nn.Module):\n",
    "\n",
    "    def __init__(self, vocab_size):\n",
    "        super().__init__()\n",
    "        # each token directly reads off the logits for the next token from a lookup table\n",
    "        self.token_embedding_table = nn.Embedding(vocab_size, vocab_size)\n",
    "\n",
    "    def forward(self, idx, targets=None):\n",
    "\n",
    "        # idx and targets are both (B,T) tensor of integers\n",
    "        logits = self.token_embedding_table(idx) # (B,T,C)\n",
    "\n",
    "        if targets is None:\n",
    "            loss = None\n",
    "        else:\n",
    "            B, T, C = logits.shape\n",
    "            logits = logits.view(B*T, C)\n",
    "            targets = targets.view(B*T)\n",
    "\n",
    "            loss = F.cross_entropy(logits, targets)\n",
    "\n",
    "        return logits, loss\n",
    "\n",
    "    def generate(self, idx, max_new_tokens):\n",
    "        # idx is (B, T) array of indices in the current context\n",
    "        for _ in range(max_new_tokens):\n",
    "            # get the predictions\n",
    "            logits, loss = self(idx)\n",
    "            # focus only on the last time step\n",
    "            logits = logits[:, -1, :] # becomes (B, C)\n",
    "            # apply softmax to get probabilities\n",
    "            probs = F.softmax(logits, dim=-1) # (B, C)\n",
    "            # sample from the distribution\n",
    "            idx_next = torch.multinomial(probs, num_samples=1) # (B, 1)\n",
    "            # append sampled index to the running sequence\n",
    "            idx = torch.cat((idx, idx_next), dim=1) # (B, T+1)\n",
    "        return idx\n",
    "\n",
    "m = BigramLanguageModel(vocab_size)\n",
    "logits, loss = m(xb, yb)\n",
    "print(logits.shape)\n",
    "print(loss)\n",
    "\n",
    "print(decode(m.generate(idx = torch.zeros((1, 1), dtype=torch.long), max_new_tokens=100)[0].tolist()))\n"
   ]
  },
  {
   "cell_type": "markdown",
   "metadata": {},
   "source": [
    "# Train the Bigram now "
   ]
  },
  {
   "cell_type": "code",
   "execution_count": 50,
   "metadata": {},
   "outputs": [],
   "source": [
    "# create a PyTorch optimizer\n",
    "optimizer = torch.optim.AdamW(m.parameters(), lr=1e-3)"
   ]
  },
  {
   "cell_type": "code",
   "execution_count": 67,
   "metadata": {},
   "outputs": [
    {
     "name": "stdout",
     "output_type": "stream",
     "text": [
      "2.4453284740448\n"
     ]
    }
   ],
   "source": [
    "batch_size = 32\n",
    "for steps in range(1000): # increase number of steps for good results...\n",
    "\n",
    "    # sample a batch of data\n",
    "    xb, yb = get_batch('train')\n",
    "\n",
    "    # evaluate the loss\n",
    "    logits, loss = m(xb, yb)\n",
    "    optimizer.zero_grad(set_to_none=True)\n",
    "    loss.backward()\n",
    "    optimizer.step()\n",
    "\n",
    "print(loss.item())\n"
   ]
  },
  {
   "cell_type": "code",
   "execution_count": 75,
   "metadata": {},
   "outputs": [
    {
     "data": {
      "text/plain": [
       "tensor([[0]])"
      ]
     },
     "execution_count": 75,
     "metadata": {},
     "output_type": "execute_result"
    }
   ],
   "source": [
    " torch.zeros((1, 1), dtype=torch.long)"
   ]
  },
  {
   "cell_type": "code",
   "execution_count": 73,
   "metadata": {},
   "outputs": [
    {
     "name": "stdout",
     "output_type": "stream",
     "text": [
      "\n",
      "Lad.\n",
      "Thodit, stsere ty se kno le win aicOK:\n",
      "wise tuauss omace mee arive anom alif fo pe hugora-r fer\n"
     ]
    }
   ],
   "source": [
    "print(decode(m.generate(idx = torch.zeros((1, 1), dtype=torch.long), max_new_tokens=100)[0].tolist()))"
   ]
  },
  {
   "cell_type": "code",
   "execution_count": 39,
   "metadata": {},
   "outputs": [
    {
     "data": {
      "text/plain": [
       "tensor([[24, 43, 58,  5, 57,  1, 46, 43],\n",
       "        [44, 53, 56,  1, 58, 46, 39, 58],\n",
       "        [52, 58,  1, 58, 46, 39, 58,  1],\n",
       "        [25, 17, 27, 10,  0, 21,  1, 54]], dtype=torch.int32)"
      ]
     },
     "execution_count": 39,
     "metadata": {},
     "output_type": "execute_result"
    }
   ],
   "source": [
    "xb"
   ]
  },
  {
   "cell_type": "code",
   "execution_count": null,
   "metadata": {},
   "outputs": [],
   "source": []
  },
  {
   "cell_type": "code",
   "execution_count": null,
   "metadata": {},
   "outputs": [],
   "source": []
  },
  {
   "cell_type": "code",
   "execution_count": 30,
   "metadata": {},
   "outputs": [
    {
     "data": {
      "text/plain": [
       "tensor([[[-1.1730,  0.1125,  1.3759,  ...,  0.2143,  1.5742, -0.1005],\n",
       "         [-1.8161,  0.9116,  0.2748,  ..., -0.2251, -1.2663, -0.1214],\n",
       "         [-0.3795,  0.3194,  2.6585,  ...,  1.2165, -0.4437, -0.4673],\n",
       "         ...,\n",
       "         [-0.1667,  0.2752, -0.6079,  ..., -0.9631, -0.1148,  0.6909],\n",
       "         [ 1.9412,  0.2296,  0.7117,  ...,  1.2448, -0.9663, -1.0425],\n",
       "         [-1.8161,  0.9116,  0.2748,  ..., -0.2251, -1.2663, -0.1214]],\n",
       "\n",
       "        [[-1.2892,  1.5030, -0.5783,  ...,  0.2987,  0.0178,  0.1400],\n",
       "         [ 0.5862, -0.6468, -0.7656,  ...,  1.0883,  0.5236, -0.8487],\n",
       "         [-0.1845,  1.6679, -0.3512,  ..., -0.7535,  0.4537,  1.3755],\n",
       "         ...,\n",
       "         [ 1.9412,  0.2296,  0.7117,  ...,  1.2448, -0.9663, -1.0425],\n",
       "         [ 0.8124, -0.5741, -0.0039,  ...,  1.5699,  0.1447,  1.3065],\n",
       "         [-0.3795,  0.3194,  2.6585,  ...,  1.2165, -0.4437, -0.4673]],\n",
       "\n",
       "        [[-0.2119,  0.5506,  0.2701,  ..., -0.0877, -1.2754,  1.8154],\n",
       "         [-0.3795,  0.3194,  2.6585,  ...,  1.2165, -0.4437, -0.4673],\n",
       "         [-0.1667,  0.2752, -0.6079,  ..., -0.9631, -0.1148,  0.6909],\n",
       "         ...,\n",
       "         [ 0.8124, -0.5741, -0.0039,  ...,  1.5699,  0.1447,  1.3065],\n",
       "         [-0.3795,  0.3194,  2.6585,  ...,  1.2165, -0.4437, -0.4673],\n",
       "         [-0.1667,  0.2752, -0.6079,  ..., -0.9631, -0.1148,  0.6909]],\n",
       "\n",
       "        [[ 1.0401, -0.4591, -1.3601,  ..., -0.4542, -2.6711,  0.6349],\n",
       "         [-0.4378,  0.9774, -0.4912,  ..., -0.8311,  1.1529, -0.4151],\n",
       "         [-2.2705,  1.1728,  1.8061,  ...,  0.3434, -0.8716, -1.3286],\n",
       "         ...,\n",
       "         [ 1.0413,  0.9522, -0.5893,  ...,  0.6523, -1.1228, -0.5896],\n",
       "         [-0.1667,  0.2752, -0.6079,  ..., -0.9631, -0.1148,  0.6909],\n",
       "         [-0.7711, -0.0528, -1.8655,  ...,  0.0712, -0.3004, -1.7918]]],\n",
       "       grad_fn=<EmbeddingBackward0>)"
      ]
     },
     "execution_count": 30,
     "metadata": {},
     "output_type": "execute_result"
    }
   ],
   "source": [
    "token_embedding_table(xb)"
   ]
  },
  {
   "cell_type": "code",
   "execution_count": null,
   "metadata": {},
   "outputs": [],
   "source": []
  },
  {
   "cell_type": "code",
   "execution_count": null,
   "metadata": {},
   "outputs": [],
   "source": []
  },
  {
   "cell_type": "code",
   "execution_count": null,
   "metadata": {},
   "outputs": [],
   "source": []
  }
 ],
 "metadata": {
  "kernelspec": {
   "display_name": "python_env",
   "language": "python",
   "name": "python3"
  },
  "language_info": {
   "codemirror_mode": {
    "name": "ipython",
    "version": 3
   },
   "file_extension": ".py",
   "mimetype": "text/x-python",
   "name": "python",
   "nbconvert_exporter": "python",
   "pygments_lexer": "ipython3",
   "version": "3.12.2"
  }
 },
 "nbformat": 4,
 "nbformat_minor": 2
}
