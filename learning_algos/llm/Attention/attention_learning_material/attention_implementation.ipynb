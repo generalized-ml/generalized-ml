{
 "cells": [
  {
   "cell_type": "markdown",
   "metadata": {},
   "source": [
    "# Attension is all you need - Coding attention layer\n",
    "\n",
    "In this notebook I will be coding the attention layer from basics <br>\n",
    "\n",
    "Following is the attention equation which is the \"bhramastra of LLMs -\" <br>\n",
    "\n",
    "\n",
    " <center> <img src=\"./images/attention_euqation.png\" alt=\"Drawing\" style=\"width: 200px;\"/> </center>\n"
   ]
  },
  {
   "cell_type": "code",
   "execution_count": null,
   "metadata": {},
   "outputs": [],
   "source": []
  }
 ],
 "metadata": {
  "kernelspec": {
   "display_name": "python_env",
   "language": "python",
   "name": "python3"
  },
  "language_info": {
   "codemirror_mode": {
    "name": "ipython",
    "version": 3
   },
   "file_extension": ".py",
   "mimetype": "text/x-python",
   "name": "python",
   "nbconvert_exporter": "python",
   "pygments_lexer": "ipython3",
   "version": "3.12.2"
  }
 },
 "nbformat": 4,
 "nbformat_minor": 2
}
