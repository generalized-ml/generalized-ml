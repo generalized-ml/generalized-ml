{
 "cells": [
  {
   "cell_type": "code",
   "execution_count": 11,
   "metadata": {},
   "outputs": [],
   "source": [
    "from dotenv import load_dotenv\n",
    "import os\n",
    "from pydantic import BaseModel, Field\n",
    "from langchain_openai   import ChatOpenAI\n",
    "from langchain_core.prompts import ChatPromptTemplate\n",
    "from langchain_core.output_parsers import PydanticOutputParser\n",
    "from langchain.agents import create_tool_calling_agent, AgentExecutor\n",
    "from tools import search_tool\n",
    "from langchain.chains import LLMMathChain\n",
    "from langchain.tools import Tool"
   ]
  },
  {
   "cell_type": "code",
   "execution_count": 12,
   "metadata": {},
   "outputs": [],
   "source": [
    "from langchain_openai import ChatOpenAI\n",
    "\n",
    "load_dotenv()\n",
    "\n",
    "llm = ChatOpenAI(\n",
    "    model=\"gpt-3.5-turbo\",\n",
    "    temperature=0,\n",
    "    max_retries=2,\n",
    "    # api_key=\"...\",\n",
    "    # base_url=\"...\",\n",
    "    # organization=\"...\",\n",
    "    # other params...\n",
    ")\n",
    "\n",
    "class PydanticModelResponse(BaseModel):\n",
    "    topic: str\n",
    "    summary: str\n",
    "    sources : list[str]\n",
    "    tools_used: list[str]\n",
    "\n",
    "\n",
    "\n",
    "parser = PydanticOutputParser(pydantic_object=PydanticModelResponse)\n",
    "\n",
    "\n",
    "prompt = ChatPromptTemplate.from_messages(\n",
    "    [\n",
    "        (\"system\", \"You are a helpful assistant that provide the flight information \\\n",
    "                        and travel tips based on the user's query. Where ever you have to to calculation you will use \\\n",
    "                        Calculator tool. You will use the Search tool to find information on the web.\"),\n",
    "        (\"human\", \"{input}\"),\n",
    "        (\"placeholder\", \"{chat_history}\"),\n",
    "        (\"placeholder\", \"{agent_scratchpad}\"),\n",
    "    ]\n",
    ").partial(format_instructions=parser.get_format_instructions())\n",
    "\n",
    "problem_chain = LLMMathChain.from_llm(\n",
    "    llm=llm)\n",
    "math_tool = Tool.from_function(name=\"Calculator\",\n",
    "                func=problem_chain.run,\n",
    "                 description=\"Useful for when you need to answer questions about math. \\\n",
    "                    This tool is only for math questions and nothing else. Only input math expressions.\")\n",
    "\n",
    "tools  = [search_tool, math_tool]\n",
    "\n",
    "agent = create_tool_calling_agent(\n",
    "    llm=llm,\n",
    "    prompt=prompt,\n",
    "    tools = tools\n",
    ")\n",
    "\n",
    "agent_executor = AgentExecutor(agent = agent, tools = tools, verbose=True)\n",
    "\n"
   ]
  },
  {
   "cell_type": "code",
   "execution_count": 14,
   "metadata": {},
   "outputs": [
    {
     "name": "stdout",
     "output_type": "stream",
     "text": [
      "\n",
      "\n",
      "\u001b[1m> Entering new AgentExecutor chain...\u001b[0m\n",
      "\u001b[32;1m\u001b[1;3m\n",
      "Invoking: `search` with `Flight price from New Delhi, India to France on 23rd Dec 2025`\n",
      "\n",
      "\n",
      "\u001b[0m\u001b[36;1m\u001b[1;3mBook New Delhi to Paris flight tickets at the cheapest price starting at ₹21905. Compare approximately 55 flights of major airlines that fly between New Delhi and Paris. The shortest flight duration is 9h 35m. ixigo also provides information like flight fares, flight timings, flight schedule changes & stops (if any), etc. How to find cheap flights to Paris (PARI) from New Delhi (IDEL) in 2025. Looking for cheap tickets from New Delhi to Paris? Return tickets start from ₹ 37,040 and one-way flights to Paris from New Delhi start from ₹ 19,768. Here are a few tips on how to secure the best flight price and make your journey as smooth as possible. Simply hit ... 16 Mar 2025. Air France lowest fare. ... First, and Business Class on DEL to POX Flights. The date of the cheapest flight price for a New Delhi Paris flight ticket is undefined. ... arrives in Paris at 07:35. Here's a quick breakdown of the airline-wise flight distribution: 8 flights are run by Air France, 2 flights are run by Air India, 16 ... View Air France and Air India airspace usage and actual flight times. Search. Last data update: ... Flights from Delhi (DEL), India to Paris (CDG), France illustrated on a map. Based on 66 recorded flights, the distance can vary between 4218 and 5052 miles. ... 04/23/2025. B788. 4278 miles. AI147. 04/22/2025. B788. Compare cheap India to France flight deals from over 1,000 providers. Then choose the cheapest or fastest plane tickets. Flight tickets to France start from £102 one-way. Set up a Price Alert. We price check with over 1,000 travel companies so you don't have to. You can easily track the price of your airline tickets from India to France by ...\u001b[0m\u001b[32;1m\u001b[1;3m\n",
      "Invoking: `Calculator` with `21905 * 0.013`\n",
      "\n",
      "\n",
      "\u001b[0m\u001b[33;1m\u001b[1;3mAnswer: 284.765\u001b[0m\u001b[32;1m\u001b[1;3mThe flight fare from New Delhi, India to France on 23rd Dec 2025 is approximately 284.77 Dubai currency units.\u001b[0m\n",
      "\n",
      "\u001b[1m> Finished chain.\u001b[0m\n"
     ]
    }
   ],
   "source": [
    "response = agent_executor.invoke({\n",
    "    \"input\": \"What is the Price of Flight to France from New Delhi, India on 23rd Dec'2025? calculate the flight fare in dubai currency.\",\n",
    "})"
   ]
  },
  {
   "cell_type": "code",
   "execution_count": 6,
   "metadata": {},
   "outputs": [
    {
     "data": {
      "text/plain": [
       "'The price of a flight from New Delhi, India to France on 23rd Dec 2025 varies depending on the airline and class of travel. The cheapest price for a flight ticket on this route starts at ₹21,905. Air France and Air India are among the airlines that operate flights between New Delhi and France.'"
      ]
     },
     "execution_count": 6,
     "metadata": {},
     "output_type": "execute_result"
    }
   ],
   "source": [
    "response[\"output\"]"
   ]
  },
  {
   "cell_type": "code",
   "execution_count": null,
   "metadata": {},
   "outputs": [],
   "source": []
  }
 ],
 "metadata": {
  "kernelspec": {
   "display_name": "learn_llm",
   "language": "python",
   "name": "python3"
  },
  "language_info": {
   "codemirror_mode": {
    "name": "ipython",
    "version": 3
   },
   "file_extension": ".py",
   "mimetype": "text/x-python",
   "name": "python",
   "nbconvert_exporter": "python",
   "pygments_lexer": "ipython3",
   "version": "3.13.4"
  }
 },
 "nbformat": 4,
 "nbformat_minor": 2
}
